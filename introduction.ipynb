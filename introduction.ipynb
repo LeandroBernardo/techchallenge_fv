{
 "cells": [
  {
   "cell_type": "markdown",
   "id": "ada437d6",
   "metadata": {},
   "source": [
    "![alt text](image-1.png)"
   ]
  },
  {
   "cell_type": "markdown",
   "id": "16f41676",
   "metadata": {},
   "source": []
  }
 ],
 "metadata": {
  "language_info": {
   "name": "python"
  }
 },
 "nbformat": 4,
 "nbformat_minor": 5
}
